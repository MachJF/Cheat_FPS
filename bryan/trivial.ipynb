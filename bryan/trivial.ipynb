{
 "cells": [
  {
   "cell_type": "code",
   "execution_count": 1,
   "metadata": {
    "collapsed": true
   },
   "outputs": [],
   "source": [
    "import cv2\n",
    "import numpy as np\n",
    "import pyautogui\n",
    "import win32gui\n",
    "from PyQt5.QtWidgets import QApplication\n",
    "import sys"
   ]
  },
  {
   "cell_type": "code",
   "execution_count": 2,
   "outputs": [],
   "source": [
    "def convert_qimage_to_mat(incoming_image):\n",
    "    '''  Converts a QImage into an opencv MAT format  '''\n",
    "    # Format_RGB32 = 4,存入格式为B,G,R,A 对应 0,1,2,3\n",
    "    # RGB32图像每个像素用32比特位表示，占4个字节，\n",
    "    # R，G，B分量分别用8个bit表示，存储顺序为B，G，R，最后8个字节保留\n",
    "    incoming_image = incoming_image.convertToFormat(4)\n",
    "    width = incoming_image.width()\n",
    "    height = incoming_image.height()\n",
    "\n",
    "    ptr = incoming_image.bits()\n",
    "    ptr.setsize(incoming_image.byteCount())\n",
    "    arr = np.array(ptr).reshape(height, width, 4)  # Copies the data\n",
    "    # arr为 BGRA，4通道图片\n",
    "    return arr"
   ],
   "metadata": {
    "collapsed": false
   }
  },
  {
   "cell_type": "code",
   "execution_count": 10,
   "outputs": [
    {
     "name": "stdout",
     "output_type": "stream",
     "text": [
      "463842 Cheat_FPS – trivial.ipynb\n",
      "1707708 record\n",
      "1250280 Counter-strike  Global Offensive 2023.02.27 - 21.56.46.01.mp4 - PotPlayer\n",
      "67066 服务器 - 轻量应用服务器 - 控制台 — Mozilla Firefox\n",
      "67032 csgo yolov - Google 搜索 — Mozilla Firefox\n",
      "67038 手把手教你使用opencv-python库制作屏幕录制工具（附源码） - 简书 — Mozilla Firefox\n",
      "12848292 opencv 将多帧图像合成为视频 cv2.VideoWriter()_qq_33377927的博客-CSDN博客 — Mozilla Firefox\n",
      "5115302 邮件\n",
      "2559378 收件箱 - Gmail ‎- 邮件\n",
      "69552 设置\n",
      "396740 设置\n",
      "67060 (110条消息) D2R使用方法1_d2rmm_smallsmallbright的博客-CSDN博客 — Mozilla Firefox\n",
      "67024 (110条消息) 一文了解最全Neo4j 可视化图形数据库的工具，内含15种工具。_极客小普冲呀的博客-CSDN博客 — Mozilla Firefox\n",
      "67058 neo4j-examples/movies-python-bolt: Neo4j Movies Example application with Flask backend using the neo4j-python-driver — Mozilla Firefox\n",
      "67028 对知识图谱的告白：斯坦福大学CS520课程介绍 - 知乎 — Mozilla Firefox\n",
      "67030 实体关系、实体属性、三元组、SPO三元组及其抽取方案 - 知乎 — Mozilla Firefox\n",
      "67040 Mozilla Firefox\n",
      "67046 解语：如何从零样本做中文文本知识标注与挖掘？ - Google 搜索 — Mozilla Firefox\n",
      "67044 腾讯：专注于通用领域的知识图谱—Topbase 学习笔记_丁叔叔的博客-CSDN博客 — Mozilla Firefox\n",
      "197080 Release 22621.1344.53.1 · valinet/ExplorerPatcher — Mozilla Firefox\n",
      "67034 MIT Press — Mozilla Firefox\n",
      "67020 知识图谱理论与实践（线上） - 深蓝学院 - 专注人工智能与自动驾驶的学习平台 — Mozilla Firefox\n",
      "67048 知识图谱 - 思知 — Mozilla Firefox\n",
      "67062 Content roots | IntelliJ IDEA Documentation — Mozilla Firefox\n",
      "67508 NVIDIA GeForce Overlay\n",
      "132586 自然语言处理-码农场 — Mozilla Firefox\n",
      "67026 机器拾趣 - 知乎 — Mozilla Firefox\n",
      "67056 msra — HanLP Documentation — Mozilla Firefox\n",
      "67022 NeuralKG/README_CN.md at main · zjukg/NeuralKG — Mozilla Firefox\n",
      "67014 从零构建知识图谱 技术、方法与案例（资深知识图谱专家撰写，OpenKG创始人、美团知识图谱负责人力荐，技术、工具、方法和案例4个维度，配源码） (智能系统与技术丛书) - 从零构建知识图谱 技术、方法与案例（资深知识图谱专家撰写，OpenKG创始人、美团知识图谱负责人力荐，技术、工具、方法和案例4个维度，配源码）... (z-lib.org).pdf — Mozilla Firefox\n",
      "132554 中文通用百科知识图谱（CN-DBpedia） - 图谱 - 开放知识图谱 — Mozilla Firefox\n",
      "67042 Doccano数据标注工具 - 自动标注（Auto-Labeling）功能 - 七年i - 博客园 — Mozilla Firefox\n",
      "67064 zhihao-chen/QASystemOnMedicalKG: A tutorial and implement of disease centered Medical knowledge graph and qa system based on it。知识图谱构建，自动问答，基于kg的自动问答。以疾病为中心的一定规模医药领域知识图谱，并以该知识图谱完成自动问答与分析服务。 — Mozilla Firefox\n",
      "67036 斯坦福大学CS520知识图谱系列课程学习笔记：第一讲什么是知识图谱 - 知乎 — Mozilla Firefox\n",
      "263440 Windows 输入体验\n",
      "133468 Program Manager\n"
     ]
    }
   ],
   "source": [
    "hwnd_title = dict()\n",
    "def get_all_hwnd(hwnd, mouse):\n",
    "    if win32gui.IsWindow(hwnd) and win32gui.IsWindowEnabled(hwnd) and win32gui.IsWindowVisible(hwnd):\n",
    "        hwnd_title.update({hwnd: win32gui.GetWindowText(hwnd)})\n",
    "\n",
    "win32gui.EnumWindows(get_all_hwnd, 0)\n",
    "\n",
    "for h, t in hwnd_title.items():\n",
    "    if t != \"\":\n",
    "        print(h, t)"
   ],
   "metadata": {
    "collapsed": false
   }
  },
  {
   "cell_type": "code",
   "execution_count": 4,
   "outputs": [],
   "source": [
    "hwnd = win32gui.FindWindow(None, 'cvat')\n",
    "app = QApplication(sys.argv)\n",
    "screen = app.primaryScreen()"
   ],
   "metadata": {
    "collapsed": false
   }
  },
  {
   "cell_type": "code",
   "execution_count": 9,
   "outputs": [
    {
     "data": {
      "text/plain": "(2560, 1440)"
     },
     "execution_count": 9,
     "metadata": {},
     "output_type": "execute_result"
    }
   ],
   "source": [
    "a = (screen.size().width(), screen.size().height())\n",
    "a\n"
   ],
   "metadata": {
    "collapsed": false
   }
  },
  {
   "cell_type": "code",
   "execution_count": 5,
   "outputs": [],
   "source": [
    "img = screen.grabWindow(hwnd).toImage()"
   ],
   "metadata": {
    "collapsed": false
   }
  },
  {
   "cell_type": "code",
   "execution_count": 9,
   "outputs": [
    {
     "data": {
      "text/plain": "(2560, 1440)"
     },
     "execution_count": 9,
     "metadata": {},
     "output_type": "execute_result"
    }
   ],
   "source": [
    "w,h = img.size().width(), img.size().height()\n",
    "w, h"
   ],
   "metadata": {
    "collapsed": false
   }
  },
  {
   "cell_type": "code",
   "execution_count": null,
   "outputs": [],
   "source": [
    "while True:\n",
    "\n",
    "    img = screen.grabWindow(hwnd).toImage()\n",
    "    img = convert_qimage_to_mat(img)\n",
    "    cv2.namedWindow('image', cv2.WINDOW_NORMAL)\n",
    "    cv2.imshow('image', img)\n",
    "    if cv2.waitKey(1) & 0xFF == ord('q'):\n",
    "        break\n",
    "    cv2.waitKey(0)\n",
    "    cv2.destroyAllWindows()\n",
    "\n"
   ],
   "metadata": {
    "collapsed": false
   }
  },
  {
   "cell_type": "code",
   "execution_count": null,
   "outputs": [],
   "source": [
    "\n",
    "img = pyautogui.screenshot()"
   ],
   "metadata": {
    "collapsed": false
   }
  },
  {
   "cell_type": "code",
   "execution_count": null,
   "outputs": [],
   "source": [
    "cv2.imshow('image', img)"
   ],
   "metadata": {
    "collapsed": false
   }
  },
  {
   "cell_type": "code",
   "execution_count": 1,
   "outputs": [
    {
     "ename": "SyntaxError",
     "evalue": "incomplete input (544181125.py, line 1)",
     "output_type": "error",
     "traceback": [
      "\u001B[1;36m  Cell \u001B[1;32mIn[1], line 1\u001B[1;36m\u001B[0m\n\u001B[1;33m    def video_record():\u001B[0m\n\u001B[1;37m                       ^\u001B[0m\n\u001B[1;31mSyntaxError\u001B[0m\u001B[1;31m:\u001B[0m incomplete input\n"
     ]
    }
   ],
   "source": [
    "def video_record(self, window_name, video_name, fps=25):\n",
    "    hwnd = win32gui.FindWindow(None, window_name)\n",
    "    app = QApplication(sys.argv)\n",
    "    screen = app.primaryScreen()\n",
    "    screen_size = (screen.size().width(), screen.size().height())\n",
    "    video = cv2.VideoWriter(video_name, cv2.VideoWriter_fourcc(*'XVID'), fps, screen_size)\n",
    "    while self.recording:\n",
    "        screen = app.primaryScreen()\n",
    "        img = convert_qimage_to_mat(screen.grabWindow(hwnd).toImage())\n",
    "        video.write(img)\n"
   ],
   "metadata": {
    "collapsed": false
   }
  },
  {
   "cell_type": "code",
   "execution_count": null,
   "outputs": [],
   "source": [],
   "metadata": {
    "collapsed": false
   }
  }
 ],
 "metadata": {
  "kernelspec": {
   "display_name": "Python 3",
   "language": "python",
   "name": "python3"
  },
  "language_info": {
   "codemirror_mode": {
    "name": "ipython",
    "version": 2
   },
   "file_extension": ".py",
   "mimetype": "text/x-python",
   "name": "python",
   "nbconvert_exporter": "python",
   "pygments_lexer": "ipython2",
   "version": "2.7.6"
  }
 },
 "nbformat": 4,
 "nbformat_minor": 0
}
